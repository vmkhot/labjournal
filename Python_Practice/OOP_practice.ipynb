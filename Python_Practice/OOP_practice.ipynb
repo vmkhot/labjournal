{
 "cells": [
  {
   "attachments": {},
   "cell_type": "markdown",
   "metadata": {},
   "source": [
    "## Classes and Objects Practice\n",
    "A class is a blueprint of a house with details on doors, windows and walls. Using this we build the house. The physical house is an object"
   ]
  },
  {
   "attachments": {},
   "cell_type": "markdown",
   "metadata": {},
   "source": [
    "Why object-oriented programming?\n",
    "- Structured and flexible code\n",
    "- We think in terms of objects and how the objects are interacting with each other.\n",
    "- Breaking complex problem into smaller chunks\n",
    "- Makes code reusable, we can define classes and methods that can be used again"
   ]
  },
  {
   "attachments": {},
   "cell_type": "markdown",
   "metadata": {},
   "source": [
    "An empty, bare bones class"
   ]
  },
  {
   "cell_type": "code",
   "execution_count": 2,
   "metadata": {},
   "outputs": [
    {
     "name": "stdout",
     "output_type": "stream",
     "text": [
      "Harry\n",
      "85\n"
     ]
    }
   ],
   "source": [
    "#a class is a blueprint of a house with details on doors, windows and walls. Using this we build the house. The physical house is an object\n",
    "\n",
    "class Student:\n",
    "    pass        #classes cannot be empty but right now there are no attributes (variables)\n",
    "                # or methods (functions) in this class\n",
    "#Now we can create objects using class Student\n",
    "\n",
    "student1=Student()\n",
    "student2=Student()\n",
    "\n",
    "student1.name=\"Harry\" #Here we've added Harry to the \"name\" attribute of student\n",
    "student1.marks=85 \n",
    "\n",
    "print(student1.name)\n",
    "print(student1.marks)"
   ]
  },
  {
   "attachments": {},
   "cell_type": "markdown",
   "metadata": {},
   "source": [
    "Now we try to make a method inside a class to check if a student has failed or passed"
   ]
  },
  {
   "cell_type": "code",
   "execution_count": 4,
   "metadata": {},
   "outputs": [
    {
     "name": "stdout",
     "output_type": "stream",
     "text": [
      "True\n"
     ]
    }
   ],
   "source": [
    "class Student:\n",
    "    def check_pass_fail(self): #this is a **method** inside a class that we've defined. \"Self\" **has to be** defined as the first argument\n",
    "        if self.marks >= 40:\n",
    "            return True\n",
    "        else:\n",
    "            return False    \n",
    "\n",
    "#our attributes\n",
    "student1=Student()  # created an object using the class\n",
    "student1.name=\"Harry\"   # added attributes to the object\n",
    "student1.marks=85       \n",
    "\n",
    "did_pass=student1.check_pass_fail()     # we called the check_pass_fail method without passing any arguments using the object student1\n",
    "print(did_pass)                         # printed the result of the method check_pass_fail on student1"
   ]
  },
  {
   "attachments": {},
   "cell_type": "markdown",
   "metadata": {},
   "source": [
    "We try another with student who did not pass"
   ]
  },
  {
   "cell_type": "code",
   "execution_count": 5,
   "metadata": {},
   "outputs": [
    {
     "name": "stdout",
     "output_type": "stream",
     "text": [
      "False\n"
     ]
    }
   ],
   "source": [
    "student2=Student()\n",
    "student2.name=\"Janet\"\n",
    "student2.marks=30\n",
    "did_pass=student2.check_pass_fail()\n",
    "print(did_pass)"
   ]
  },
  {
   "attachments": {},
   "cell_type": "markdown",
   "metadata": {},
   "source": [
    "However, adding attributes to the object manually **AFTER** defining is not good practice. Instead, we use a more elegant way to name attributes while defining the class. For this __init__ is used.\n",
    "The init method is a special method that automatically gets called everytime objects are created"
   ]
  },
  {
   "cell_type": "code",
   "execution_count": 1,
   "metadata": {},
   "outputs": [
    {
     "name": "stdout",
     "output_type": "stream",
     "text": [
      "Harry\n",
      "85\n"
     ]
    }
   ],
   "source": [
    "class Student:\n",
    "    def check_pass_fail(self): \n",
    "        if self.marks >= 40:\n",
    "            return True\n",
    "        else:\n",
    "            return False  \n",
    "    \n",
    "    def __init__(self, name, marks):        #now we add the attributes in the definition of the method\n",
    "        self.name=name\n",
    "        self.marks=marks\n",
    "\n",
    "\n",
    "student1=Student(\"Harry\",85)    #Make the object with Harry and marks as the attributes  \n",
    "\n",
    "print(student1.name)                     \n",
    "print(student1.marks)"
   ]
  },
  {
   "cell_type": "code",
   "execution_count": 2,
   "metadata": {},
   "outputs": [
    {
     "name": "stdout",
     "output_type": "stream",
     "text": [
      "Harry\n",
      "85\n",
      "Varada\n",
      "30\n"
     ]
    }
   ],
   "source": [
    "student1=Student(\"Harry\",85)    #Make the object with Harry and marks as the attributes  \n",
    "student2=Student(\"Varada\",30)    #Make the object with Harry and marks as the attributes  \n",
    "\n",
    "print(student1.name)                     \n",
    "print(student1.marks)\n",
    "\n",
    "print(student2.name)                     \n",
    "print(student2.marks)"
   ]
  },
  {
   "cell_type": "code",
   "execution_count": 9,
   "metadata": {},
   "outputs": [
    {
     "name": "stdout",
     "output_type": "stream",
     "text": [
      "True\n",
      "False\n"
     ]
    }
   ],
   "source": [
    "did_pass=student1.check_pass_fail()\n",
    "print(did_pass)\n",
    "did_pass=student2.check_pass_fail()\n",
    "print(did_pass)"
   ]
  },
  {
   "attachments": {},
   "cell_type": "markdown",
   "metadata": {},
   "source": [
    "Now we will try a new example of adding two complex numbers using a class"
   ]
  },
  {
   "cell_type": "code",
   "execution_count": 13,
   "metadata": {},
   "outputs": [
    {
     "name": "stdout",
     "output_type": "stream",
     "text": [
      "real = 1 imag = 8\n"
     ]
    }
   ],
   "source": [
    "class Complex:\n",
    "    def __init__(self, real, imag):\n",
    "        self.real=real\n",
    "        self.imag=imag\n",
    "\n",
    "    def add(self, number):\n",
    "        real=self.real + number.real\n",
    "        imag=self.imag + number.imag\n",
    "        result=Complex(real, imag)  #created another object and then returned it in the next line\n",
    "        return result\n",
    "\n",
    "n1=Complex(5,6)\n",
    "n2=Complex(-4,2)\n",
    "\n",
    "result=n1.add(n2)       #called the \"add\" method on the n1 object and passed the n2 object to it. So in the add method self=n1, number=n2\n",
    "print(\"real =\", result.real, \"imag =\", result.imag)\n"
   ]
  },
  {
   "attachments": {},
   "cell_type": "markdown",
   "metadata": {},
   "source": [
    "## Python Inheritance\n",
    "Inheritance allows us to inherit attributes and methods from a parent class to child classes"
   ]
  },
  {
   "cell_type": "code",
   "execution_count": 5,
   "metadata": {},
   "outputs": [
    {
     "name": "stdout",
     "output_type": "stream",
     "text": [
      "I can bark\n",
      "I can eat\n",
      "I can eat\n"
     ]
    }
   ],
   "source": [
    "class Animal:\n",
    "    def eat(self):\n",
    "        print(\"I can eat\")\n",
    "\n",
    "class Dog(Animal):      #here, the dog class, inherits all the attributes of the animal class + it's own methods\n",
    "    def bark(self):\n",
    "        print(\"I can bark\")\n",
    "\n",
    "dog1 =Dog()             # dog1 inherits attributes from both Dog and Animal classes\n",
    "dog1.bark()\n",
    "dog1.eat()\n",
    "\n",
    "#both bark and eat will be printed here\n",
    "\n",
    "class Cat(Animal):\n",
    "    def get_grumpy(self):\n",
    "        print(\"I am getting grumpy\")\n",
    "\n",
    "cat1 =Cat()\n",
    "cat1.eat()"
   ]
  },
  {
   "attachments": {},
   "cell_type": "markdown",
   "metadata": {},
   "source": [
    "A more practical example of inheritance coming up...to calculate the perimeter of different polygons"
   ]
  },
  {
   "cell_type": "code",
   "execution_count": 8,
   "metadata": {},
   "outputs": [
    {
     "name": "stdout",
     "output_type": "stream",
     "text": [
      "the perimeter is 18\n"
     ]
    }
   ],
   "source": [
    "#this is our base class, all shapes will inherit from this class\n",
    "class Polygon:\n",
    "    def __init__(self, sides):\n",
    "        self.sides = sides\n",
    "\n",
    "    def display_info(self):\n",
    "        print(\"a polygon is a 2d shape with straight lines\")\n",
    "    \n",
    "    def get_perimeter(self):\n",
    "        perimeter = sum(self.sides)\n",
    "        return perimeter\n",
    "\n",
    "#now a more specific shape class\n",
    "class Triangle(Polygon):\n",
    "    def display_info(self):\n",
    "        print(\"triangle has 3 edges\")\n",
    "        Polygon.display_info(self)\n",
    "    \n",
    "class Quadrilateral(Polygon):\n",
    "    def display_info(self):\n",
    "        print(\"a quad has 4 edges\")\n",
    "\n",
    "t1=Triangle([5,6,7])\n",
    "perimeter =t1.get_perimeter()\n",
    "print(\"the perimeter is\", perimeter)"
   ]
  },
  {
   "attachments": {},
   "cell_type": "markdown",
   "metadata": {},
   "source": [
    "#### Method overwriting\n",
    "If the SAME method is defined in both the base and derived classes, then the method of derived class overrides the method of the base class"
   ]
  },
  {
   "cell_type": "code",
   "execution_count": 9,
   "metadata": {},
   "outputs": [
    {
     "name": "stdout",
     "output_type": "stream",
     "text": [
      "triangle has 3 edges\n",
      "a polygon is a 2d shape with straight lines\n",
      "None\n"
     ]
    }
   ],
   "source": [
    "print(t1.display_info())        #this will just print the info from the triangle class\n",
    "#if the display info is explicitly added to the Triangle class then it will print both"
   ]
  },
  {
   "attachments": {},
   "cell_type": "markdown",
   "metadata": {},
   "source": [
    "Practice Exercise 1 - bank accounts"
   ]
  },
  {
   "cell_type": "code",
   "execution_count": 14,
   "metadata": {},
   "outputs": [
    {
     "name": "stdout",
     "output_type": "stream",
     "text": [
      "Kyle 80\n",
      "Kyle 40\n",
      "Kyle 120\n"
     ]
    }
   ],
   "source": [
    "class Bank_Account:\n",
    "    def set_details(self,name,balance):\n",
    "        self.name=name\n",
    "        self.balance=balance\n",
    "\n",
    "    def display(self):\n",
    "        print(self.name, self.balance)\n",
    "    \n",
    "    def withdraw(self, amount):\n",
    "        self.amount=amount\n",
    "        self.balance=self.balance-amount\n",
    "    \n",
    "    def deposit(self, amount):\n",
    "        self.amount=amount\n",
    "        self.balance=self.balance+amount\n",
    "\n",
    "\n",
    "person=Bank_Account()\n",
    "person.set_details(\"Kyle\", 80)\n",
    "person.display()\n",
    "\n",
    "# try withdraw\n",
    "person.withdraw(40)\n",
    "person.display()\n",
    "\n",
    "# try deposit\n",
    "person.deposit(80)\n",
    "person.display()"
   ]
  },
  {
   "attachments": {},
   "cell_type": "markdown",
   "metadata": {},
   "source": [
    "Using the __init__ method. Initialization of instance variables automatically and any other initialization tasks. __init__ methods are part of \"magic methods\" in python - because they are automatic? Only 1 initializer in each class."
   ]
  },
  {
   "cell_type": "code",
   "execution_count": 15,
   "metadata": {},
   "outputs": [
    {
     "name": "stdout",
     "output_type": "stream",
     "text": [
      "Kyle 80\n",
      "Kyle 40\n",
      "Kyle 120\n"
     ]
    }
   ],
   "source": [
    "class Bank_Account:\n",
    "    def __init__(self,name,balance):\n",
    "        self.name=name\n",
    "        self.balance=balance\n",
    "\n",
    "    def display(self):\n",
    "        print(self.name, self.balance)\n",
    "    \n",
    "    def withdraw(self, amount):\n",
    "        self.amount=amount\n",
    "        self.balance=self.balance-amount\n",
    "    \n",
    "    def deposit(self, amount):\n",
    "        self.amount=amount\n",
    "        self.balance=self.balance+amount\n",
    "\n",
    "\n",
    "person=Bank_Account(\"Kyle\", 80)\n",
    "person.display()\n",
    "\n",
    "# try withdraw\n",
    "person.withdraw(40)\n",
    "person.display()\n",
    "\n",
    "# try deposit\n",
    "person.deposit(80)\n",
    "person.display()"
   ]
  },
  {
   "attachments": {},
   "cell_type": "markdown",
   "metadata": {},
   "source": [
    "### Data Hiding\n",
    "Data in a code can be \"public\" or \"private\". Private data in a method can only be used within the class. Public data in a class can be used outside the class by the rest of the code as well. \n",
    "\n",
    "Python has no concept of public or private data. Everything inside the python class is public. However, there's a naming convention (prefix single underscore) to indicate that a particular method should not be used outside the class. e.g. \"_methodA()\" is a \"private\" method. \n",
    "\n",
    "_methodA() --> not public\n",
    "\n",
    "##### Name Mangling\n",
    "__value --> python will mangle the attribute name to --> _MyClass__value --> not directly accesible outside the class but can be indirectly accessed. This is not for privacy. It is to make the name specific to the class to avoid naming clashes\n",
    "\n",
    "__init__ --> Used by python for its internal use. Don't define your own\n",
    "\n",
    "class_ or range_ --> Use trailing underscores to define attributes to avoid name clashes with Python built-in names. Best to avoid built-in names altogether\n",
    "\n",
    "Example of privacy and name manging:"
   ]
  },
  {
   "cell_type": "code",
   "execution_count": 16,
   "metadata": {},
   "outputs": [],
   "source": [
    "class Product:\n",
    "    def __init__(self):\n",
    "        self.data1 = 10\n",
    "        self._data2 = 20        # data2 attribute is considered private\n",
    "    \n",
    "    def methodA(self):\n",
    "        pass\n",
    "\n",
    "    def _methodB(self):         # methodB attribute is considered private\n",
    "        pass\n",
    "\n",
    "p=Product()"
   ]
  },
  {
   "attachments": {},
   "cell_type": "markdown",
   "metadata": {},
   "source": [
    "These are accessible parts and okay to call"
   ]
  },
  {
   "cell_type": "code",
   "execution_count": 21,
   "metadata": {},
   "outputs": [],
   "source": [
    "p.data1\n",
    "p.methodA()"
   ]
  },
  {
   "attachments": {},
   "cell_type": "markdown",
   "metadata": {},
   "source": [
    "These are private but still accessible - but not a good idea"
   ]
  },
  {
   "cell_type": "code",
   "execution_count": 22,
   "metadata": {},
   "outputs": [
    {
     "data": {
      "text/plain": [
       "20"
      ]
     },
     "execution_count": 22,
     "metadata": {},
     "output_type": "execute_result"
    }
   ],
   "source": [
    "p._data2"
   ]
  },
  {
   "attachments": {},
   "cell_type": "markdown",
   "metadata": {},
   "source": [
    "If we change the code to double underscores, the names of data2 and methodB become inaccessible and mangled"
   ]
  },
  {
   "cell_type": "code",
   "execution_count": 29,
   "metadata": {},
   "outputs": [],
   "source": [
    "class Product:\n",
    "    def __init__(self):\n",
    "        self.data1 = 10\n",
    "        self.__data2 = 20   \n",
    "    \n",
    "    def methodA(self):\n",
    "        pass    "
   ]
  },
  {
   "cell_type": "code",
   "execution_count": 24,
   "metadata": {},
   "outputs": [
    {
     "ename": "AttributeError",
     "evalue": "'Product' object has no attribute '__data2'",
     "output_type": "error",
     "traceback": [
      "\u001b[1;31m---------------------------------------------------------------------------\u001b[0m",
      "\u001b[1;31mAttributeError\u001b[0m                            Traceback (most recent call last)",
      "Cell \u001b[1;32mIn[24], line 1\u001b[0m\n\u001b[1;32m----> 1\u001b[0m p\u001b[39m.\u001b[39;49m__data2\n",
      "\u001b[1;31mAttributeError\u001b[0m: 'Product' object has no attribute '__data2'"
     ]
    }
   ],
   "source": [
    "p.__data2"
   ]
  },
  {
   "attachments": {},
   "cell_type": "markdown",
   "metadata": {},
   "source": [
    "#### Property\n",
    "A method assigned as a \"property\" can be interacted with as an instance variable.\n",
    "Setter and getter methods for \n"
   ]
  },
  {
   "cell_type": "code",
   "execution_count": null,
   "metadata": {},
   "outputs": [],
   "source": []
  }
 ],
 "metadata": {
  "kernelspec": {
   "display_name": "Python 3",
   "language": "python",
   "name": "python3"
  },
  "language_info": {
   "codemirror_mode": {
    "name": "ipython",
    "version": 3
   },
   "file_extension": ".py",
   "mimetype": "text/x-python",
   "name": "python",
   "nbconvert_exporter": "python",
   "pygments_lexer": "ipython3",
   "version": "3.11.1"
  },
  "orig_nbformat": 4,
  "vscode": {
   "interpreter": {
    "hash": "25be8b222a7303e5e92108a244726a480cf20b6c601940af22bc303dcc2d9eb1"
   }
  }
 },
 "nbformat": 4,
 "nbformat_minor": 2
}
