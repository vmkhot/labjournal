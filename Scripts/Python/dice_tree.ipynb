{
 "cells": [
  {
   "attachments": {},
   "cell_type": "markdown",
   "metadata": {},
   "source": [
    "# Notebook to calculate dice distances between organisms\n",
    "\n",
    "This notebook creates a neighbour joining tree of organisms by comparing their protein content using blastp, and scoring strength organism-organism relationship based on a ratio of the sum of their total bitscores from the blastp results. This ratio is called the a dice distance.\n",
    "\n",
    "Things necessary for this script to work:  \n",
    "* all proteins in an AA fasta file labelled as \"genome|prot\"\n",
    "* An all-vs-all blastp results\n",
    "```bash\n",
    "blastp -db cat_all_viruses2blast.faa -query cat_all_viruses2blast.faa -out VCproteins_refseq_selfblastp_hsp1.out -outfmt 6 -num_threads 20 -max_hsps 1\n",
    "```"
   ]
  },
  {
   "attachments": {},
   "cell_type": "markdown",
   "metadata": {},
   "source": [
    "Import libraries"
   ]
  },
  {
   "cell_type": "code",
   "execution_count": null,
   "metadata": {},
   "outputs": [],
   "source": [
    "import pandas as pd\n",
    "from pandas import DataFrame\n",
    "import numpy as np\n",
    "import csv, sys, re"
   ]
  },
  {
   "attachments": {},
   "cell_type": "markdown",
   "metadata": {},
   "source": [
    "Read in blast results"
   ]
  },
  {
   "cell_type": "code",
   "execution_count": null,
   "metadata": {},
   "outputs": [],
   "source": [
    "#read the blast file (all_prot_selfdmnd.out). this file is the self blast of all the protein sequences incl. reference seq\n",
    "\n",
    "#blastp=sys.argv[1]\n",
    "selfblast='VCproteins_refseq_selfblastp_hsp1.out'\n",
    "\n",
    "#intermediate filtered blast file\n",
    "temp1='VCproteins_refseq_selfblastp_hsp1_filtered.out'\n",
    "\n",
    "#outfile is pairwise alignment file\n",
    "outfile='VCprot_refseqprot_pw.tsv'"
   ]
  },
  {
   "cell_type": "code",
   "execution_count": null,
   "metadata": {},
   "outputs": [],
   "source": [
    "#read blast file into a dataframe 'df' and rename columns, splits on tab and pipe\n",
    "print(\"reading in blast results...\")\n",
    "df_self=pd.read_csv(selfblast,sep='\\t|\\|',usecols=[0,1,2,3,4,12,13],header=None,names=['qcontig','qprot','scontig','sprot','pident','evalue','bitscore'],engine='python')\n",
    "print(df_self)"
   ]
  },
  {
   "attachments": {},
   "cell_type": "markdown",
   "metadata": {},
   "source": [
    "filter blast results: evalue <= 0.00001 (1E-5) and pident >= 40% should I use a different filter here?"
   ]
  },
  {
   "cell_type": "code",
   "execution_count": null,
   "metadata": {},
   "outputs": [],
   "source": [
    "print(\"filtering blast results...\")\n",
    "df_self_1=df_self.loc[(df_self['evalue'] <= 0.00001) & (df_self['pident'] >= 40)]\n",
    "#print(df_self_1)\n",
    "df_self_1.to_csv(temp1,sep='\\t',header=True,index=False)\n",
    "\n",
    "#check if any there are any NAs\n",
    "df1=df_self_1[df_self_1.isna().any(axis=1)]\n",
    "#print(df1)"
   ]
  },
  {
   "attachments": {},
   "cell_type": "markdown",
   "metadata": {},
   "source": [
    "sum bitscores by query and subject contigs and put into condensed datafram 'df_cond'"
   ]
  },
  {
   "cell_type": "code",
   "execution_count": null,
   "metadata": {},
   "outputs": [],
   "source": [
    "print(\"calculating bitscore sums...\")\n",
    "df_cond=df_self_1.groupby(['qcontig','scontig']).sum().reset_index()\n",
    "df_cond.rename(columns={'bitscore':'BSsum'},inplace=True)\n",
    "df_cond=df_cond[['qcontig','scontig','BSsum']]\n",
    "print(\"finished calculating bitscore sums...\")\n",
    "#print(df_cond)"
   ]
  },
  {
   "attachments": {},
   "cell_type": "markdown",
   "metadata": {},
   "source": [
    "mapping contigs to dictionary"
   ]
  },
  {
   "cell_type": "code",
   "execution_count": null,
   "metadata": {},
   "outputs": [],
   "source": [
    "contigs=[]\n",
    "for line in df_cond['qcontig']:\n",
    "    if line in contigs:\n",
    "        next\n",
    "    else:\n",
    "        contigs.append(line)\n",
    "#print(contigs)\n",
    "\n",
    "dictionary={}\n",
    "i=0\n",
    "for j in contigs:\n",
    "    dictionary[j]=i\n",
    "    i=i+1\n",
    "#print(dictionary)"
   ]
  },
  {
   "attachments": {},
   "cell_type": "markdown",
   "metadata": {},
   "source": [
    "convert dataframe from long to wide format and then into a 2d array"
   ]
  },
  {
   "cell_type": "code",
   "execution_count": null,
   "metadata": {},
   "outputs": [],
   "source": [
    "df_cond.dropna(inplace=True)\n",
    "\n",
    "df_cond_1=df_cond.pivot(index='qcontig',columns='scontig',values='BSsum')\n",
    "print(\"pivoted matrix...\")\n",
    "\n",
    "#only to check that there's something in the matrix.\n",
    "#df_cond.to_csv(\"./temp1.tsv\",sep='\\t',header='True')\n",
    "\n",
    "#print(df_cond)\n",
    "print(df_cond_1)\n",
    "\n",
    "arr=df_cond_1.values\n",
    "#print(len(arr)-1)"
   ]
  },
  {
   "attachments": {},
   "cell_type": "markdown",
   "metadata": {},
   "source": [
    "calculate dice distance and assign to new dictionary 'new_dict'"
   ]
  },
  {
   "cell_type": "code",
   "execution_count": null,
   "metadata": {},
   "outputs": [],
   "source": [
    "print(\"calculating dice distances...\")\n",
    "new_dict={}\n",
    "for i in range(0,len(arr)):\n",
    "    for j in range(0,len(arr[0])):\n",
    "        dice=1-((2*max(arr[i][j],arr[j][i]))/(arr[i][i]+arr[j][j]))\n",
    "        new_dict[i,j]=dice"
   ]
  },
  {
   "attachments": {},
   "cell_type": "markdown",
   "metadata": {},
   "source": [
    "create a new final dataframe for printing using list comprehension and using values from inv_map (inversed contig mapping) and dice from 'new_dict'"
   ]
  },
  {
   "cell_type": "code",
   "execution_count": null,
   "metadata": {},
   "outputs": [],
   "source": [
    "#inverse dictionary of contigs\n",
    "print(\"inverse mapping all distance results to dataframe\")\n",
    "inv_map={v:k for k,v in dictionary.items()}\n",
    "#\n",
    "#create a new final dataframe for printing using list comprehension and using values from inv_map (inversed contig mapping) and dice from 'new_dict'\n",
    "d=[]\n",
    "for k1,k2 in new_dict.keys():\n",
    "    d.append({'contig1':inv_map[k1],'contig2':inv_map[k2],'dice':new_dict[k1,k2]})\n",
    "#    print(inv_map[k1]+'\\t'+inv_map[k2]+'\\t'+str(new_dict[k1,k2]))\n",
    "#print(d)"
   ]
  },
  {
   "attachments": {},
   "cell_type": "markdown",
   "metadata": {},
   "source": [
    "create final dataframe for printing out and clean up"
   ]
  },
  {
   "cell_type": "code",
   "execution_count": null,
   "metadata": {},
   "outputs": [],
   "source": [
    "print(\"final clean up...\")\n",
    "df_final=pd.DataFrame(d)\n",
    "df_final=df_final[['contig1','contig2','dice']]\n",
    "df_final.replace([np.inf,-np.inf],np.nan,inplace=True)\n",
    "df_final.dropna(inplace=True)\n",
    "#df_final.insert(3,'1-dice',1-df_final['dice'])\n",
    "#df_final.drop(columns='dice',inplace=True)\n",
    "\n",
    "print(\"printing results to file...\")\n",
    "df_final.to_csv(outfile,sep='\\t',header=True,index=False)\n",
    "#print(df_final)\n",
    "\n",
    "print(\"done! time for a beer...\")"
   ]
  }
 ],
 "metadata": {
  "language_info": {
   "name": "python"
  },
  "orig_nbformat": 4
 },
 "nbformat": 4,
 "nbformat_minor": 2
}
